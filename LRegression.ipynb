{
  "cells": [
    {
      "cell_type": "markdown",
      "metadata": {
        "id": "view-in-github",
        "colab_type": "text"
      },
      "source": [
        "<a href=\"https://colab.research.google.com/github/Ruth-Oteng/data/blob/main/LRegression.ipynb\" target=\"_parent\"><img src=\"https://colab.research.google.com/assets/colab-badge.svg\" alt=\"Open In Colab\"/></a>"
      ]
    },
    {
      "cell_type": "code",
      "execution_count": 1,
      "metadata": {
        "id": "qsh9A5_BRiD_"
      },
      "outputs": [],
      "source": [
        "import pandas as pd\n",
        "import numpy as np"
      ]
    },
    {
      "cell_type": "code",
      "execution_count": 3,
      "metadata": {
        "colab": {
          "base_uri": "https://localhost:8080/",
          "height": 485
        },
        "id": "bfb-RJALRiED",
        "outputId": "016a5d24-374c-4dcf-dd68-fc12c03ca6ab"
      },
      "outputs": [
        {
          "output_type": "execute_result",
          "data": {
            "text/plain": [
              "     Overall Price Price of the Maintenance Number of doors  \\\n",
              "0            vhigh                    vhigh               2   \n",
              "1            vhigh                    vhigh               2   \n",
              "2            vhigh                    vhigh               2   \n",
              "3            vhigh                    vhigh               2   \n",
              "4            vhigh                    vhigh               2   \n",
              "...            ...                      ...             ...   \n",
              "1722           low                      low           5more   \n",
              "1723           low                      low           5more   \n",
              "1724           low                      low           5more   \n",
              "1725           low                      low           5more   \n",
              "1726           low                      low           5more   \n",
              "\n",
              "     capacity in terms of persons to carry the size of luggage boot  \\\n",
              "0                                        2                    small   \n",
              "1                                        2                    small   \n",
              "2                                        2                      med   \n",
              "3                                        2                      med   \n",
              "4                                        2                      med   \n",
              "...                                    ...                      ...   \n",
              "1722                                  more                      med   \n",
              "1723                                  more                      med   \n",
              "1724                                  more                      big   \n",
              "1725                                  more                      big   \n",
              "1726                                  more                      big   \n",
              "\n",
              "     estimated safety of the car car acceptability  \n",
              "0                            med             unacc  \n",
              "1                           high             unacc  \n",
              "2                            low             unacc  \n",
              "3                            med             unacc  \n",
              "4                           high             unacc  \n",
              "...                          ...               ...  \n",
              "1722                         med              good  \n",
              "1723                        high             vgood  \n",
              "1724                         low             unacc  \n",
              "1725                         med              good  \n",
              "1726                        high             vgood  \n",
              "\n",
              "[1727 rows x 7 columns]"
            ],
            "text/html": [
              "\n",
              "  <div id=\"df-0fefdea7-0fbc-4a32-b41c-5b5d0f15fc71\">\n",
              "    <div class=\"colab-df-container\">\n",
              "      <div>\n",
              "<style scoped>\n",
              "    .dataframe tbody tr th:only-of-type {\n",
              "        vertical-align: middle;\n",
              "    }\n",
              "\n",
              "    .dataframe tbody tr th {\n",
              "        vertical-align: top;\n",
              "    }\n",
              "\n",
              "    .dataframe thead th {\n",
              "        text-align: right;\n",
              "    }\n",
              "</style>\n",
              "<table border=\"1\" class=\"dataframe\">\n",
              "  <thead>\n",
              "    <tr style=\"text-align: right;\">\n",
              "      <th></th>\n",
              "      <th>Overall Price</th>\n",
              "      <th>Price of the Maintenance</th>\n",
              "      <th>Number of doors</th>\n",
              "      <th>capacity in terms of persons to carry</th>\n",
              "      <th>the size of luggage boot</th>\n",
              "      <th>estimated safety of the car</th>\n",
              "      <th>car acceptability</th>\n",
              "    </tr>\n",
              "  </thead>\n",
              "  <tbody>\n",
              "    <tr>\n",
              "      <th>0</th>\n",
              "      <td>vhigh</td>\n",
              "      <td>vhigh</td>\n",
              "      <td>2</td>\n",
              "      <td>2</td>\n",
              "      <td>small</td>\n",
              "      <td>med</td>\n",
              "      <td>unacc</td>\n",
              "    </tr>\n",
              "    <tr>\n",
              "      <th>1</th>\n",
              "      <td>vhigh</td>\n",
              "      <td>vhigh</td>\n",
              "      <td>2</td>\n",
              "      <td>2</td>\n",
              "      <td>small</td>\n",
              "      <td>high</td>\n",
              "      <td>unacc</td>\n",
              "    </tr>\n",
              "    <tr>\n",
              "      <th>2</th>\n",
              "      <td>vhigh</td>\n",
              "      <td>vhigh</td>\n",
              "      <td>2</td>\n",
              "      <td>2</td>\n",
              "      <td>med</td>\n",
              "      <td>low</td>\n",
              "      <td>unacc</td>\n",
              "    </tr>\n",
              "    <tr>\n",
              "      <th>3</th>\n",
              "      <td>vhigh</td>\n",
              "      <td>vhigh</td>\n",
              "      <td>2</td>\n",
              "      <td>2</td>\n",
              "      <td>med</td>\n",
              "      <td>med</td>\n",
              "      <td>unacc</td>\n",
              "    </tr>\n",
              "    <tr>\n",
              "      <th>4</th>\n",
              "      <td>vhigh</td>\n",
              "      <td>vhigh</td>\n",
              "      <td>2</td>\n",
              "      <td>2</td>\n",
              "      <td>med</td>\n",
              "      <td>high</td>\n",
              "      <td>unacc</td>\n",
              "    </tr>\n",
              "    <tr>\n",
              "      <th>...</th>\n",
              "      <td>...</td>\n",
              "      <td>...</td>\n",
              "      <td>...</td>\n",
              "      <td>...</td>\n",
              "      <td>...</td>\n",
              "      <td>...</td>\n",
              "      <td>...</td>\n",
              "    </tr>\n",
              "    <tr>\n",
              "      <th>1722</th>\n",
              "      <td>low</td>\n",
              "      <td>low</td>\n",
              "      <td>5more</td>\n",
              "      <td>more</td>\n",
              "      <td>med</td>\n",
              "      <td>med</td>\n",
              "      <td>good</td>\n",
              "    </tr>\n",
              "    <tr>\n",
              "      <th>1723</th>\n",
              "      <td>low</td>\n",
              "      <td>low</td>\n",
              "      <td>5more</td>\n",
              "      <td>more</td>\n",
              "      <td>med</td>\n",
              "      <td>high</td>\n",
              "      <td>vgood</td>\n",
              "    </tr>\n",
              "    <tr>\n",
              "      <th>1724</th>\n",
              "      <td>low</td>\n",
              "      <td>low</td>\n",
              "      <td>5more</td>\n",
              "      <td>more</td>\n",
              "      <td>big</td>\n",
              "      <td>low</td>\n",
              "      <td>unacc</td>\n",
              "    </tr>\n",
              "    <tr>\n",
              "      <th>1725</th>\n",
              "      <td>low</td>\n",
              "      <td>low</td>\n",
              "      <td>5more</td>\n",
              "      <td>more</td>\n",
              "      <td>big</td>\n",
              "      <td>med</td>\n",
              "      <td>good</td>\n",
              "    </tr>\n",
              "    <tr>\n",
              "      <th>1726</th>\n",
              "      <td>low</td>\n",
              "      <td>low</td>\n",
              "      <td>5more</td>\n",
              "      <td>more</td>\n",
              "      <td>big</td>\n",
              "      <td>high</td>\n",
              "      <td>vgood</td>\n",
              "    </tr>\n",
              "  </tbody>\n",
              "</table>\n",
              "<p>1727 rows × 7 columns</p>\n",
              "</div>\n",
              "      <button class=\"colab-df-convert\" onclick=\"convertToInteractive('df-0fefdea7-0fbc-4a32-b41c-5b5d0f15fc71')\"\n",
              "              title=\"Convert this dataframe to an interactive table.\"\n",
              "              style=\"display:none;\">\n",
              "        \n",
              "  <svg xmlns=\"http://www.w3.org/2000/svg\" height=\"24px\"viewBox=\"0 0 24 24\"\n",
              "       width=\"24px\">\n",
              "    <path d=\"M0 0h24v24H0V0z\" fill=\"none\"/>\n",
              "    <path d=\"M18.56 5.44l.94 2.06.94-2.06 2.06-.94-2.06-.94-.94-2.06-.94 2.06-2.06.94zm-11 1L8.5 8.5l.94-2.06 2.06-.94-2.06-.94L8.5 2.5l-.94 2.06-2.06.94zm10 10l.94 2.06.94-2.06 2.06-.94-2.06-.94-.94-2.06-.94 2.06-2.06.94z\"/><path d=\"M17.41 7.96l-1.37-1.37c-.4-.4-.92-.59-1.43-.59-.52 0-1.04.2-1.43.59L10.3 9.45l-7.72 7.72c-.78.78-.78 2.05 0 2.83L4 21.41c.39.39.9.59 1.41.59.51 0 1.02-.2 1.41-.59l7.78-7.78 2.81-2.81c.8-.78.8-2.07 0-2.86zM5.41 20L4 18.59l7.72-7.72 1.47 1.35L5.41 20z\"/>\n",
              "  </svg>\n",
              "      </button>\n",
              "      \n",
              "  <style>\n",
              "    .colab-df-container {\n",
              "      display:flex;\n",
              "      flex-wrap:wrap;\n",
              "      gap: 12px;\n",
              "    }\n",
              "\n",
              "    .colab-df-convert {\n",
              "      background-color: #E8F0FE;\n",
              "      border: none;\n",
              "      border-radius: 50%;\n",
              "      cursor: pointer;\n",
              "      display: none;\n",
              "      fill: #1967D2;\n",
              "      height: 32px;\n",
              "      padding: 0 0 0 0;\n",
              "      width: 32px;\n",
              "    }\n",
              "\n",
              "    .colab-df-convert:hover {\n",
              "      background-color: #E2EBFA;\n",
              "      box-shadow: 0px 1px 2px rgba(60, 64, 67, 0.3), 0px 1px 3px 1px rgba(60, 64, 67, 0.15);\n",
              "      fill: #174EA6;\n",
              "    }\n",
              "\n",
              "    [theme=dark] .colab-df-convert {\n",
              "      background-color: #3B4455;\n",
              "      fill: #D2E3FC;\n",
              "    }\n",
              "\n",
              "    [theme=dark] .colab-df-convert:hover {\n",
              "      background-color: #434B5C;\n",
              "      box-shadow: 0px 1px 3px 1px rgba(0, 0, 0, 0.15);\n",
              "      filter: drop-shadow(0px 1px 2px rgba(0, 0, 0, 0.3));\n",
              "      fill: #FFFFFF;\n",
              "    }\n",
              "  </style>\n",
              "\n",
              "      <script>\n",
              "        const buttonEl =\n",
              "          document.querySelector('#df-0fefdea7-0fbc-4a32-b41c-5b5d0f15fc71 button.colab-df-convert');\n",
              "        buttonEl.style.display =\n",
              "          google.colab.kernel.accessAllowed ? 'block' : 'none';\n",
              "\n",
              "        async function convertToInteractive(key) {\n",
              "          const element = document.querySelector('#df-0fefdea7-0fbc-4a32-b41c-5b5d0f15fc71');\n",
              "          const dataTable =\n",
              "            await google.colab.kernel.invokeFunction('convertToInteractive',\n",
              "                                                     [key], {});\n",
              "          if (!dataTable) return;\n",
              "\n",
              "          const docLinkHtml = 'Like what you see? Visit the ' +\n",
              "            '<a target=\"_blank\" href=https://colab.research.google.com/notebooks/data_table.ipynb>data table notebook</a>'\n",
              "            + ' to learn more about interactive tables.';\n",
              "          element.innerHTML = '';\n",
              "          dataTable['output_type'] = 'display_data';\n",
              "          await google.colab.output.renderOutput(dataTable, element);\n",
              "          const docLink = document.createElement('div');\n",
              "          docLink.innerHTML = docLinkHtml;\n",
              "          element.appendChild(docLink);\n",
              "        }\n",
              "      </script>\n",
              "    </div>\n",
              "  </div>\n",
              "  "
            ]
          },
          "metadata": {},
          "execution_count": 3
        }
      ],
      "source": [
        "car=pd.read_csv('car.data')\n",
        "car.columns=['Overall Price','Price of the Maintenance','Number of doors','capacity in terms of persons to carry','the size of luggage boot','estimated safety of the car','car acceptability']\n",
        "car"
      ]
    },
    {
      "cell_type": "code",
      "execution_count": 4,
      "metadata": {
        "colab": {
          "base_uri": "https://localhost:8080/"
        },
        "id": "gARXf9rXRiEF",
        "outputId": "26ec852e-5d35-4313-c18c-71db591fd679"
      },
      "outputs": [
        {
          "output_type": "stream",
          "name": "stdout",
          "text": [
            "<class 'pandas.core.frame.DataFrame'>\n",
            "RangeIndex: 1727 entries, 0 to 1726\n",
            "Data columns (total 7 columns):\n",
            " #   Column                                 Non-Null Count  Dtype \n",
            "---  ------                                 --------------  ----- \n",
            " 0   Overall Price                          1727 non-null   object\n",
            " 1   Price of the Maintenance               1727 non-null   object\n",
            " 2   Number of doors                        1727 non-null   object\n",
            " 3   capacity in terms of persons to carry  1727 non-null   object\n",
            " 4   the size of luggage boot               1727 non-null   object\n",
            " 5   estimated safety of the car            1727 non-null   object\n",
            " 6   car acceptability                      1727 non-null   object\n",
            "dtypes: object(7)\n",
            "memory usage: 94.6+ KB\n"
          ]
        }
      ],
      "source": [
        "car.info()"
      ]
    },
    {
      "cell_type": "code",
      "execution_count": 5,
      "metadata": {
        "colab": {
          "base_uri": "https://localhost:8080/",
          "height": 236
        },
        "id": "ynDlAuffRiEG",
        "outputId": "cae34599-56b2-475a-b9c6-aef2c7d81abb"
      },
      "outputs": [
        {
          "output_type": "execute_result",
          "data": {
            "text/plain": [
              "       Overall Price Price of the Maintenance Number of doors  \\\n",
              "count           1727                     1727            1727   \n",
              "unique             4                        4               4   \n",
              "top             high                     high               3   \n",
              "freq             432                      432             432   \n",
              "\n",
              "       capacity in terms of persons to carry the size of luggage boot  \\\n",
              "count                                   1727                     1727   \n",
              "unique                                     3                        3   \n",
              "top                                        4                      med   \n",
              "freq                                     576                      576   \n",
              "\n",
              "       estimated safety of the car car acceptability  \n",
              "count                         1727              1727  \n",
              "unique                           3                 4  \n",
              "top                            med             unacc  \n",
              "freq                           576              1209  "
            ],
            "text/html": [
              "\n",
              "  <div id=\"df-4abb7457-23bf-436b-b96f-f393b2303300\">\n",
              "    <div class=\"colab-df-container\">\n",
              "      <div>\n",
              "<style scoped>\n",
              "    .dataframe tbody tr th:only-of-type {\n",
              "        vertical-align: middle;\n",
              "    }\n",
              "\n",
              "    .dataframe tbody tr th {\n",
              "        vertical-align: top;\n",
              "    }\n",
              "\n",
              "    .dataframe thead th {\n",
              "        text-align: right;\n",
              "    }\n",
              "</style>\n",
              "<table border=\"1\" class=\"dataframe\">\n",
              "  <thead>\n",
              "    <tr style=\"text-align: right;\">\n",
              "      <th></th>\n",
              "      <th>Overall Price</th>\n",
              "      <th>Price of the Maintenance</th>\n",
              "      <th>Number of doors</th>\n",
              "      <th>capacity in terms of persons to carry</th>\n",
              "      <th>the size of luggage boot</th>\n",
              "      <th>estimated safety of the car</th>\n",
              "      <th>car acceptability</th>\n",
              "    </tr>\n",
              "  </thead>\n",
              "  <tbody>\n",
              "    <tr>\n",
              "      <th>count</th>\n",
              "      <td>1727</td>\n",
              "      <td>1727</td>\n",
              "      <td>1727</td>\n",
              "      <td>1727</td>\n",
              "      <td>1727</td>\n",
              "      <td>1727</td>\n",
              "      <td>1727</td>\n",
              "    </tr>\n",
              "    <tr>\n",
              "      <th>unique</th>\n",
              "      <td>4</td>\n",
              "      <td>4</td>\n",
              "      <td>4</td>\n",
              "      <td>3</td>\n",
              "      <td>3</td>\n",
              "      <td>3</td>\n",
              "      <td>4</td>\n",
              "    </tr>\n",
              "    <tr>\n",
              "      <th>top</th>\n",
              "      <td>high</td>\n",
              "      <td>high</td>\n",
              "      <td>3</td>\n",
              "      <td>4</td>\n",
              "      <td>med</td>\n",
              "      <td>med</td>\n",
              "      <td>unacc</td>\n",
              "    </tr>\n",
              "    <tr>\n",
              "      <th>freq</th>\n",
              "      <td>432</td>\n",
              "      <td>432</td>\n",
              "      <td>432</td>\n",
              "      <td>576</td>\n",
              "      <td>576</td>\n",
              "      <td>576</td>\n",
              "      <td>1209</td>\n",
              "    </tr>\n",
              "  </tbody>\n",
              "</table>\n",
              "</div>\n",
              "      <button class=\"colab-df-convert\" onclick=\"convertToInteractive('df-4abb7457-23bf-436b-b96f-f393b2303300')\"\n",
              "              title=\"Convert this dataframe to an interactive table.\"\n",
              "              style=\"display:none;\">\n",
              "        \n",
              "  <svg xmlns=\"http://www.w3.org/2000/svg\" height=\"24px\"viewBox=\"0 0 24 24\"\n",
              "       width=\"24px\">\n",
              "    <path d=\"M0 0h24v24H0V0z\" fill=\"none\"/>\n",
              "    <path d=\"M18.56 5.44l.94 2.06.94-2.06 2.06-.94-2.06-.94-.94-2.06-.94 2.06-2.06.94zm-11 1L8.5 8.5l.94-2.06 2.06-.94-2.06-.94L8.5 2.5l-.94 2.06-2.06.94zm10 10l.94 2.06.94-2.06 2.06-.94-2.06-.94-.94-2.06-.94 2.06-2.06.94z\"/><path d=\"M17.41 7.96l-1.37-1.37c-.4-.4-.92-.59-1.43-.59-.52 0-1.04.2-1.43.59L10.3 9.45l-7.72 7.72c-.78.78-.78 2.05 0 2.83L4 21.41c.39.39.9.59 1.41.59.51 0 1.02-.2 1.41-.59l7.78-7.78 2.81-2.81c.8-.78.8-2.07 0-2.86zM5.41 20L4 18.59l7.72-7.72 1.47 1.35L5.41 20z\"/>\n",
              "  </svg>\n",
              "      </button>\n",
              "      \n",
              "  <style>\n",
              "    .colab-df-container {\n",
              "      display:flex;\n",
              "      flex-wrap:wrap;\n",
              "      gap: 12px;\n",
              "    }\n",
              "\n",
              "    .colab-df-convert {\n",
              "      background-color: #E8F0FE;\n",
              "      border: none;\n",
              "      border-radius: 50%;\n",
              "      cursor: pointer;\n",
              "      display: none;\n",
              "      fill: #1967D2;\n",
              "      height: 32px;\n",
              "      padding: 0 0 0 0;\n",
              "      width: 32px;\n",
              "    }\n",
              "\n",
              "    .colab-df-convert:hover {\n",
              "      background-color: #E2EBFA;\n",
              "      box-shadow: 0px 1px 2px rgba(60, 64, 67, 0.3), 0px 1px 3px 1px rgba(60, 64, 67, 0.15);\n",
              "      fill: #174EA6;\n",
              "    }\n",
              "\n",
              "    [theme=dark] .colab-df-convert {\n",
              "      background-color: #3B4455;\n",
              "      fill: #D2E3FC;\n",
              "    }\n",
              "\n",
              "    [theme=dark] .colab-df-convert:hover {\n",
              "      background-color: #434B5C;\n",
              "      box-shadow: 0px 1px 3px 1px rgba(0, 0, 0, 0.15);\n",
              "      filter: drop-shadow(0px 1px 2px rgba(0, 0, 0, 0.3));\n",
              "      fill: #FFFFFF;\n",
              "    }\n",
              "  </style>\n",
              "\n",
              "      <script>\n",
              "        const buttonEl =\n",
              "          document.querySelector('#df-4abb7457-23bf-436b-b96f-f393b2303300 button.colab-df-convert');\n",
              "        buttonEl.style.display =\n",
              "          google.colab.kernel.accessAllowed ? 'block' : 'none';\n",
              "\n",
              "        async function convertToInteractive(key) {\n",
              "          const element = document.querySelector('#df-4abb7457-23bf-436b-b96f-f393b2303300');\n",
              "          const dataTable =\n",
              "            await google.colab.kernel.invokeFunction('convertToInteractive',\n",
              "                                                     [key], {});\n",
              "          if (!dataTable) return;\n",
              "\n",
              "          const docLinkHtml = 'Like what you see? Visit the ' +\n",
              "            '<a target=\"_blank\" href=https://colab.research.google.com/notebooks/data_table.ipynb>data table notebook</a>'\n",
              "            + ' to learn more about interactive tables.';\n",
              "          element.innerHTML = '';\n",
              "          dataTable['output_type'] = 'display_data';\n",
              "          await google.colab.output.renderOutput(dataTable, element);\n",
              "          const docLink = document.createElement('div');\n",
              "          docLink.innerHTML = docLinkHtml;\n",
              "          element.appendChild(docLink);\n",
              "        }\n",
              "      </script>\n",
              "    </div>\n",
              "  </div>\n",
              "  "
            ]
          },
          "metadata": {},
          "execution_count": 5
        }
      ],
      "source": [
        "car.describe()"
      ]
    },
    {
      "cell_type": "markdown",
      "metadata": {
        "id": "QWfdIFh3RiEH"
      },
      "source": [
        "# checking the quality of the data\n",
        "-checking for which colum can be made numeric"
      ]
    },
    {
      "cell_type": "code",
      "execution_count": 6,
      "metadata": {
        "colab": {
          "base_uri": "https://localhost:8080/"
        },
        "id": "opmCEM1mRiEK",
        "outputId": "218adf6c-a685-4a54-e90d-71d268620427"
      },
      "outputs": [
        {
          "output_type": "execute_result",
          "data": {
            "text/plain": [
              "array(['vhigh', 'high', 'med', 'low'], dtype=object)"
            ]
          },
          "metadata": {},
          "execution_count": 6
        }
      ],
      "source": [
        "car['Overall Price'].unique()"
      ]
    },
    {
      "cell_type": "code",
      "execution_count": 7,
      "metadata": {
        "colab": {
          "base_uri": "https://localhost:8080/"
        },
        "id": "RPAaLX9zRiEL",
        "outputId": "be669dda-4dde-4474-c91e-b4a88336d98b"
      },
      "outputs": [
        {
          "output_type": "execute_result",
          "data": {
            "text/plain": [
              "array(['vhigh', 'high', 'med', 'low'], dtype=object)"
            ]
          },
          "metadata": {},
          "execution_count": 7
        }
      ],
      "source": [
        "car['Price of the Maintenance'].unique()"
      ]
    },
    {
      "cell_type": "code",
      "execution_count": 8,
      "metadata": {
        "colab": {
          "base_uri": "https://localhost:8080/"
        },
        "id": "XTHVSzeORiEM",
        "outputId": "f183f516-2328-42e8-d25d-b982866e3975"
      },
      "outputs": [
        {
          "output_type": "execute_result",
          "data": {
            "text/plain": [
              "array(['2', '3', '4', '5more'], dtype=object)"
            ]
          },
          "metadata": {},
          "execution_count": 8
        }
      ],
      "source": [
        "car['Number of doors'].unique()"
      ]
    },
    {
      "cell_type": "code",
      "execution_count": 9,
      "metadata": {
        "colab": {
          "base_uri": "https://localhost:8080/"
        },
        "id": "zDVHQLJ9RiEN",
        "outputId": "f6fc373d-7efe-40e9-b3ab-7cb7e38c2986"
      },
      "outputs": [
        {
          "output_type": "execute_result",
          "data": {
            "text/plain": [
              "array(['2', '4', 'more'], dtype=object)"
            ]
          },
          "metadata": {},
          "execution_count": 9
        }
      ],
      "source": [
        "car['capacity in terms of persons to carry'].unique()"
      ]
    },
    {
      "cell_type": "code",
      "execution_count": 10,
      "metadata": {
        "colab": {
          "base_uri": "https://localhost:8080/"
        },
        "id": "FAX7w_vZRiEN",
        "outputId": "fb95a826-7094-47b4-ef73-9b4db593658c"
      },
      "outputs": [
        {
          "output_type": "execute_result",
          "data": {
            "text/plain": [
              "array(['small', 'med', 'big'], dtype=object)"
            ]
          },
          "metadata": {},
          "execution_count": 10
        }
      ],
      "source": [
        "car['the size of luggage boot'].unique()"
      ]
    },
    {
      "cell_type": "code",
      "execution_count": 11,
      "metadata": {
        "colab": {
          "base_uri": "https://localhost:8080/"
        },
        "id": "usjLkI7XRiEO",
        "outputId": "43d848d4-68f3-4ad7-bd2d-97f8e06b52fa"
      },
      "outputs": [
        {
          "output_type": "execute_result",
          "data": {
            "text/plain": [
              "array(['med', 'high', 'low'], dtype=object)"
            ]
          },
          "metadata": {},
          "execution_count": 11
        }
      ],
      "source": [
        "car['estimated safety of the car'].unique()"
      ]
    },
    {
      "cell_type": "code",
      "execution_count": 12,
      "metadata": {
        "colab": {
          "base_uri": "https://localhost:8080/"
        },
        "id": "jOL7bz-4RiEP",
        "outputId": "42c52c46-5144-45ed-9285-32288a0a73e6"
      },
      "outputs": [
        {
          "output_type": "execute_result",
          "data": {
            "text/plain": [
              "array(['unacc', 'acc', 'vgood', 'good'], dtype=object)"
            ]
          },
          "metadata": {},
          "execution_count": 12
        }
      ],
      "source": [
        "car['car acceptability'].unique()"
      ]
    },
    {
      "cell_type": "code",
      "execution_count": 13,
      "metadata": {
        "id": "dJObNvyDRiEQ"
      },
      "outputs": [],
      "source": [
        "carCopy=car.copy()"
      ]
    },
    {
      "cell_type": "markdown",
      "metadata": {
        "id": "KNulmgtDRiES"
      },
      "source": [
        "# From the analysis, we can convert, number od doors to numeric and capacity in terms of persons to carry to numeric"
      ]
    },
    {
      "cell_type": "code",
      "execution_count": 14,
      "metadata": {
        "id": "zZANvA6kRiET"
      },
      "outputs": [],
      "source": [
        "car['Overall Price']=car['Overall Price'].astype('category')\n",
        "car['Overall Price']=car['Overall Price'].cat.codes"
      ]
    },
    {
      "cell_type": "code",
      "execution_count": 15,
      "metadata": {
        "id": "gQHOpkI1RiEU"
      },
      "outputs": [],
      "source": [
        "car['Price of the Maintenance']=car['Price of the Maintenance'].astype('category')\n",
        "car['Price of the Maintenance']=car['Price of the Maintenance'].cat.codes"
      ]
    },
    {
      "cell_type": "code",
      "execution_count": 16,
      "metadata": {
        "id": "C0kZq4y9RiEU"
      },
      "outputs": [],
      "source": [
        "car['Number of doors']=car['Number of doors'].astype('category')\n",
        "car['Number of doors']=car['Number of doors'].cat.codes"
      ]
    },
    {
      "cell_type": "code",
      "execution_count": 17,
      "metadata": {
        "id": "eqMdWuwwRiEV"
      },
      "outputs": [],
      "source": [
        "car['capacity in terms of persons to carry']=car['capacity in terms of persons to carry'].astype('category')\n",
        "car['capacity in terms of persons to carry']=car['capacity in terms of persons to carry'].cat.codes"
      ]
    },
    {
      "cell_type": "code",
      "execution_count": 18,
      "metadata": {
        "id": "RE4qkQz0RiEW"
      },
      "outputs": [],
      "source": [
        "car['the size of luggage boot']=car['the size of luggage boot'].astype('category')\n",
        "car['the size of luggage boot']=car['the size of luggage boot'].cat.codes"
      ]
    },
    {
      "cell_type": "code",
      "execution_count": 19,
      "metadata": {
        "id": "6NiBaf6TRiEW"
      },
      "outputs": [],
      "source": [
        "car['estimated safety of the car']=car['estimated safety of the car'].astype('category')\n",
        "car['estimated safety of the car']=car['estimated safety of the car'].cat.codes"
      ]
    },
    {
      "cell_type": "code",
      "execution_count": 20,
      "metadata": {
        "id": "KdLebqJxRiEX"
      },
      "outputs": [],
      "source": [
        "car['car acceptability']=car['car acceptability'].astype('category')\n",
        "car['car acceptability']=car['car acceptability'].cat.codes"
      ]
    },
    {
      "cell_type": "code",
      "execution_count": 21,
      "metadata": {
        "colab": {
          "base_uri": "https://localhost:8080/",
          "height": 485
        },
        "id": "zMxxJ0pERiEY",
        "outputId": "ba7ae1a7-03bd-4eba-cc12-d50a72e48e7f"
      },
      "outputs": [
        {
          "output_type": "execute_result",
          "data": {
            "text/plain": [
              "      Overall Price  Price of the Maintenance  Number of doors  \\\n",
              "0                 3                         3                0   \n",
              "1                 3                         3                0   \n",
              "2                 3                         3                0   \n",
              "3                 3                         3                0   \n",
              "4                 3                         3                0   \n",
              "...             ...                       ...              ...   \n",
              "1722              1                         1                3   \n",
              "1723              1                         1                3   \n",
              "1724              1                         1                3   \n",
              "1725              1                         1                3   \n",
              "1726              1                         1                3   \n",
              "\n",
              "      capacity in terms of persons to carry  the size of luggage boot  \\\n",
              "0                                         0                         2   \n",
              "1                                         0                         2   \n",
              "2                                         0                         1   \n",
              "3                                         0                         1   \n",
              "4                                         0                         1   \n",
              "...                                     ...                       ...   \n",
              "1722                                      2                         1   \n",
              "1723                                      2                         1   \n",
              "1724                                      2                         0   \n",
              "1725                                      2                         0   \n",
              "1726                                      2                         0   \n",
              "\n",
              "      estimated safety of the car  car acceptability  \n",
              "0                               2                  2  \n",
              "1                               0                  2  \n",
              "2                               1                  2  \n",
              "3                               2                  2  \n",
              "4                               0                  2  \n",
              "...                           ...                ...  \n",
              "1722                            2                  1  \n",
              "1723                            0                  3  \n",
              "1724                            1                  2  \n",
              "1725                            2                  1  \n",
              "1726                            0                  3  \n",
              "\n",
              "[1727 rows x 7 columns]"
            ],
            "text/html": [
              "\n",
              "  <div id=\"df-abca0d30-0bf5-4d51-9d7d-55927d48434d\">\n",
              "    <div class=\"colab-df-container\">\n",
              "      <div>\n",
              "<style scoped>\n",
              "    .dataframe tbody tr th:only-of-type {\n",
              "        vertical-align: middle;\n",
              "    }\n",
              "\n",
              "    .dataframe tbody tr th {\n",
              "        vertical-align: top;\n",
              "    }\n",
              "\n",
              "    .dataframe thead th {\n",
              "        text-align: right;\n",
              "    }\n",
              "</style>\n",
              "<table border=\"1\" class=\"dataframe\">\n",
              "  <thead>\n",
              "    <tr style=\"text-align: right;\">\n",
              "      <th></th>\n",
              "      <th>Overall Price</th>\n",
              "      <th>Price of the Maintenance</th>\n",
              "      <th>Number of doors</th>\n",
              "      <th>capacity in terms of persons to carry</th>\n",
              "      <th>the size of luggage boot</th>\n",
              "      <th>estimated safety of the car</th>\n",
              "      <th>car acceptability</th>\n",
              "    </tr>\n",
              "  </thead>\n",
              "  <tbody>\n",
              "    <tr>\n",
              "      <th>0</th>\n",
              "      <td>3</td>\n",
              "      <td>3</td>\n",
              "      <td>0</td>\n",
              "      <td>0</td>\n",
              "      <td>2</td>\n",
              "      <td>2</td>\n",
              "      <td>2</td>\n",
              "    </tr>\n",
              "    <tr>\n",
              "      <th>1</th>\n",
              "      <td>3</td>\n",
              "      <td>3</td>\n",
              "      <td>0</td>\n",
              "      <td>0</td>\n",
              "      <td>2</td>\n",
              "      <td>0</td>\n",
              "      <td>2</td>\n",
              "    </tr>\n",
              "    <tr>\n",
              "      <th>2</th>\n",
              "      <td>3</td>\n",
              "      <td>3</td>\n",
              "      <td>0</td>\n",
              "      <td>0</td>\n",
              "      <td>1</td>\n",
              "      <td>1</td>\n",
              "      <td>2</td>\n",
              "    </tr>\n",
              "    <tr>\n",
              "      <th>3</th>\n",
              "      <td>3</td>\n",
              "      <td>3</td>\n",
              "      <td>0</td>\n",
              "      <td>0</td>\n",
              "      <td>1</td>\n",
              "      <td>2</td>\n",
              "      <td>2</td>\n",
              "    </tr>\n",
              "    <tr>\n",
              "      <th>4</th>\n",
              "      <td>3</td>\n",
              "      <td>3</td>\n",
              "      <td>0</td>\n",
              "      <td>0</td>\n",
              "      <td>1</td>\n",
              "      <td>0</td>\n",
              "      <td>2</td>\n",
              "    </tr>\n",
              "    <tr>\n",
              "      <th>...</th>\n",
              "      <td>...</td>\n",
              "      <td>...</td>\n",
              "      <td>...</td>\n",
              "      <td>...</td>\n",
              "      <td>...</td>\n",
              "      <td>...</td>\n",
              "      <td>...</td>\n",
              "    </tr>\n",
              "    <tr>\n",
              "      <th>1722</th>\n",
              "      <td>1</td>\n",
              "      <td>1</td>\n",
              "      <td>3</td>\n",
              "      <td>2</td>\n",
              "      <td>1</td>\n",
              "      <td>2</td>\n",
              "      <td>1</td>\n",
              "    </tr>\n",
              "    <tr>\n",
              "      <th>1723</th>\n",
              "      <td>1</td>\n",
              "      <td>1</td>\n",
              "      <td>3</td>\n",
              "      <td>2</td>\n",
              "      <td>1</td>\n",
              "      <td>0</td>\n",
              "      <td>3</td>\n",
              "    </tr>\n",
              "    <tr>\n",
              "      <th>1724</th>\n",
              "      <td>1</td>\n",
              "      <td>1</td>\n",
              "      <td>3</td>\n",
              "      <td>2</td>\n",
              "      <td>0</td>\n",
              "      <td>1</td>\n",
              "      <td>2</td>\n",
              "    </tr>\n",
              "    <tr>\n",
              "      <th>1725</th>\n",
              "      <td>1</td>\n",
              "      <td>1</td>\n",
              "      <td>3</td>\n",
              "      <td>2</td>\n",
              "      <td>0</td>\n",
              "      <td>2</td>\n",
              "      <td>1</td>\n",
              "    </tr>\n",
              "    <tr>\n",
              "      <th>1726</th>\n",
              "      <td>1</td>\n",
              "      <td>1</td>\n",
              "      <td>3</td>\n",
              "      <td>2</td>\n",
              "      <td>0</td>\n",
              "      <td>0</td>\n",
              "      <td>3</td>\n",
              "    </tr>\n",
              "  </tbody>\n",
              "</table>\n",
              "<p>1727 rows × 7 columns</p>\n",
              "</div>\n",
              "      <button class=\"colab-df-convert\" onclick=\"convertToInteractive('df-abca0d30-0bf5-4d51-9d7d-55927d48434d')\"\n",
              "              title=\"Convert this dataframe to an interactive table.\"\n",
              "              style=\"display:none;\">\n",
              "        \n",
              "  <svg xmlns=\"http://www.w3.org/2000/svg\" height=\"24px\"viewBox=\"0 0 24 24\"\n",
              "       width=\"24px\">\n",
              "    <path d=\"M0 0h24v24H0V0z\" fill=\"none\"/>\n",
              "    <path d=\"M18.56 5.44l.94 2.06.94-2.06 2.06-.94-2.06-.94-.94-2.06-.94 2.06-2.06.94zm-11 1L8.5 8.5l.94-2.06 2.06-.94-2.06-.94L8.5 2.5l-.94 2.06-2.06.94zm10 10l.94 2.06.94-2.06 2.06-.94-2.06-.94-.94-2.06-.94 2.06-2.06.94z\"/><path d=\"M17.41 7.96l-1.37-1.37c-.4-.4-.92-.59-1.43-.59-.52 0-1.04.2-1.43.59L10.3 9.45l-7.72 7.72c-.78.78-.78 2.05 0 2.83L4 21.41c.39.39.9.59 1.41.59.51 0 1.02-.2 1.41-.59l7.78-7.78 2.81-2.81c.8-.78.8-2.07 0-2.86zM5.41 20L4 18.59l7.72-7.72 1.47 1.35L5.41 20z\"/>\n",
              "  </svg>\n",
              "      </button>\n",
              "      \n",
              "  <style>\n",
              "    .colab-df-container {\n",
              "      display:flex;\n",
              "      flex-wrap:wrap;\n",
              "      gap: 12px;\n",
              "    }\n",
              "\n",
              "    .colab-df-convert {\n",
              "      background-color: #E8F0FE;\n",
              "      border: none;\n",
              "      border-radius: 50%;\n",
              "      cursor: pointer;\n",
              "      display: none;\n",
              "      fill: #1967D2;\n",
              "      height: 32px;\n",
              "      padding: 0 0 0 0;\n",
              "      width: 32px;\n",
              "    }\n",
              "\n",
              "    .colab-df-convert:hover {\n",
              "      background-color: #E2EBFA;\n",
              "      box-shadow: 0px 1px 2px rgba(60, 64, 67, 0.3), 0px 1px 3px 1px rgba(60, 64, 67, 0.15);\n",
              "      fill: #174EA6;\n",
              "    }\n",
              "\n",
              "    [theme=dark] .colab-df-convert {\n",
              "      background-color: #3B4455;\n",
              "      fill: #D2E3FC;\n",
              "    }\n",
              "\n",
              "    [theme=dark] .colab-df-convert:hover {\n",
              "      background-color: #434B5C;\n",
              "      box-shadow: 0px 1px 3px 1px rgba(0, 0, 0, 0.15);\n",
              "      filter: drop-shadow(0px 1px 2px rgba(0, 0, 0, 0.3));\n",
              "      fill: #FFFFFF;\n",
              "    }\n",
              "  </style>\n",
              "\n",
              "      <script>\n",
              "        const buttonEl =\n",
              "          document.querySelector('#df-abca0d30-0bf5-4d51-9d7d-55927d48434d button.colab-df-convert');\n",
              "        buttonEl.style.display =\n",
              "          google.colab.kernel.accessAllowed ? 'block' : 'none';\n",
              "\n",
              "        async function convertToInteractive(key) {\n",
              "          const element = document.querySelector('#df-abca0d30-0bf5-4d51-9d7d-55927d48434d');\n",
              "          const dataTable =\n",
              "            await google.colab.kernel.invokeFunction('convertToInteractive',\n",
              "                                                     [key], {});\n",
              "          if (!dataTable) return;\n",
              "\n",
              "          const docLinkHtml = 'Like what you see? Visit the ' +\n",
              "            '<a target=\"_blank\" href=https://colab.research.google.com/notebooks/data_table.ipynb>data table notebook</a>'\n",
              "            + ' to learn more about interactive tables.';\n",
              "          element.innerHTML = '';\n",
              "          dataTable['output_type'] = 'display_data';\n",
              "          await google.colab.output.renderOutput(dataTable, element);\n",
              "          const docLink = document.createElement('div');\n",
              "          docLink.innerHTML = docLinkHtml;\n",
              "          element.appendChild(docLink);\n",
              "        }\n",
              "      </script>\n",
              "    </div>\n",
              "  </div>\n",
              "  "
            ]
          },
          "metadata": {},
          "execution_count": 21
        }
      ],
      "source": [
        "car"
      ]
    },
    {
      "cell_type": "code",
      "execution_count": 22,
      "metadata": {
        "colab": {
          "base_uri": "https://localhost:8080/"
        },
        "id": "7ecIAMKcRiEY",
        "outputId": "e1b8fefc-8a50-4e36-ef6d-6ec4f25d2cdf"
      },
      "outputs": [
        {
          "output_type": "stream",
          "name": "stdout",
          "text": [
            "<class 'pandas.core.frame.DataFrame'>\n",
            "RangeIndex: 1727 entries, 0 to 1726\n",
            "Data columns (total 7 columns):\n",
            " #   Column                                 Non-Null Count  Dtype\n",
            "---  ------                                 --------------  -----\n",
            " 0   Overall Price                          1727 non-null   int8 \n",
            " 1   Price of the Maintenance               1727 non-null   int8 \n",
            " 2   Number of doors                        1727 non-null   int8 \n",
            " 3   capacity in terms of persons to carry  1727 non-null   int8 \n",
            " 4   the size of luggage boot               1727 non-null   int8 \n",
            " 5   estimated safety of the car            1727 non-null   int8 \n",
            " 6   car acceptability                      1727 non-null   int8 \n",
            "dtypes: int8(7)\n",
            "memory usage: 11.9 KB\n"
          ]
        }
      ],
      "source": [
        "car.info()"
      ]
    },
    {
      "cell_type": "code",
      "execution_count": 23,
      "metadata": {
        "colab": {
          "base_uri": "https://localhost:8080/",
          "height": 362
        },
        "id": "hk73L3uKRiEY",
        "outputId": "1c84ac8f-5e96-47c2-eb28-ea9eaba3a97b"
      },
      "outputs": [
        {
          "output_type": "execute_result",
          "data": {
            "text/plain": [
              "       Overall Price  Price of the Maintenance  Number of doors  \\\n",
              "count    1727.000000               1727.000000      1727.000000   \n",
              "mean        1.499131                  1.499131         1.500869   \n",
              "std         1.118098                  1.118098         1.118098   \n",
              "min         0.000000                  0.000000         0.000000   \n",
              "25%         0.500000                  0.500000         1.000000   \n",
              "50%         1.000000                  1.000000         2.000000   \n",
              "75%         2.000000                  2.000000         2.500000   \n",
              "max         3.000000                  3.000000         3.000000   \n",
              "\n",
              "       capacity in terms of persons to carry  the size of luggage boot  \\\n",
              "count                            1727.000000               1727.000000   \n",
              "mean                                1.000579                  0.999421   \n",
              "std                                 0.816615                  0.816615   \n",
              "min                                 0.000000                  0.000000   \n",
              "25%                                 0.000000                  0.000000   \n",
              "50%                                 1.000000                  1.000000   \n",
              "75%                                 2.000000                  2.000000   \n",
              "max                                 2.000000                  2.000000   \n",
              "\n",
              "       estimated safety of the car  car acceptability  \n",
              "count                   1727.00000        1727.000000  \n",
              "mean                       1.00000           1.552982  \n",
              "std                        0.81697           0.876136  \n",
              "min                        0.00000           0.000000  \n",
              "25%                        0.00000           1.000000  \n",
              "50%                        1.00000           2.000000  \n",
              "75%                        2.00000           2.000000  \n",
              "max                        2.00000           3.000000  "
            ],
            "text/html": [
              "\n",
              "  <div id=\"df-9a72fc94-86bc-4b74-bacc-112cd08d2cbb\">\n",
              "    <div class=\"colab-df-container\">\n",
              "      <div>\n",
              "<style scoped>\n",
              "    .dataframe tbody tr th:only-of-type {\n",
              "        vertical-align: middle;\n",
              "    }\n",
              "\n",
              "    .dataframe tbody tr th {\n",
              "        vertical-align: top;\n",
              "    }\n",
              "\n",
              "    .dataframe thead th {\n",
              "        text-align: right;\n",
              "    }\n",
              "</style>\n",
              "<table border=\"1\" class=\"dataframe\">\n",
              "  <thead>\n",
              "    <tr style=\"text-align: right;\">\n",
              "      <th></th>\n",
              "      <th>Overall Price</th>\n",
              "      <th>Price of the Maintenance</th>\n",
              "      <th>Number of doors</th>\n",
              "      <th>capacity in terms of persons to carry</th>\n",
              "      <th>the size of luggage boot</th>\n",
              "      <th>estimated safety of the car</th>\n",
              "      <th>car acceptability</th>\n",
              "    </tr>\n",
              "  </thead>\n",
              "  <tbody>\n",
              "    <tr>\n",
              "      <th>count</th>\n",
              "      <td>1727.000000</td>\n",
              "      <td>1727.000000</td>\n",
              "      <td>1727.000000</td>\n",
              "      <td>1727.000000</td>\n",
              "      <td>1727.000000</td>\n",
              "      <td>1727.00000</td>\n",
              "      <td>1727.000000</td>\n",
              "    </tr>\n",
              "    <tr>\n",
              "      <th>mean</th>\n",
              "      <td>1.499131</td>\n",
              "      <td>1.499131</td>\n",
              "      <td>1.500869</td>\n",
              "      <td>1.000579</td>\n",
              "      <td>0.999421</td>\n",
              "      <td>1.00000</td>\n",
              "      <td>1.552982</td>\n",
              "    </tr>\n",
              "    <tr>\n",
              "      <th>std</th>\n",
              "      <td>1.118098</td>\n",
              "      <td>1.118098</td>\n",
              "      <td>1.118098</td>\n",
              "      <td>0.816615</td>\n",
              "      <td>0.816615</td>\n",
              "      <td>0.81697</td>\n",
              "      <td>0.876136</td>\n",
              "    </tr>\n",
              "    <tr>\n",
              "      <th>min</th>\n",
              "      <td>0.000000</td>\n",
              "      <td>0.000000</td>\n",
              "      <td>0.000000</td>\n",
              "      <td>0.000000</td>\n",
              "      <td>0.000000</td>\n",
              "      <td>0.00000</td>\n",
              "      <td>0.000000</td>\n",
              "    </tr>\n",
              "    <tr>\n",
              "      <th>25%</th>\n",
              "      <td>0.500000</td>\n",
              "      <td>0.500000</td>\n",
              "      <td>1.000000</td>\n",
              "      <td>0.000000</td>\n",
              "      <td>0.000000</td>\n",
              "      <td>0.00000</td>\n",
              "      <td>1.000000</td>\n",
              "    </tr>\n",
              "    <tr>\n",
              "      <th>50%</th>\n",
              "      <td>1.000000</td>\n",
              "      <td>1.000000</td>\n",
              "      <td>2.000000</td>\n",
              "      <td>1.000000</td>\n",
              "      <td>1.000000</td>\n",
              "      <td>1.00000</td>\n",
              "      <td>2.000000</td>\n",
              "    </tr>\n",
              "    <tr>\n",
              "      <th>75%</th>\n",
              "      <td>2.000000</td>\n",
              "      <td>2.000000</td>\n",
              "      <td>2.500000</td>\n",
              "      <td>2.000000</td>\n",
              "      <td>2.000000</td>\n",
              "      <td>2.00000</td>\n",
              "      <td>2.000000</td>\n",
              "    </tr>\n",
              "    <tr>\n",
              "      <th>max</th>\n",
              "      <td>3.000000</td>\n",
              "      <td>3.000000</td>\n",
              "      <td>3.000000</td>\n",
              "      <td>2.000000</td>\n",
              "      <td>2.000000</td>\n",
              "      <td>2.00000</td>\n",
              "      <td>3.000000</td>\n",
              "    </tr>\n",
              "  </tbody>\n",
              "</table>\n",
              "</div>\n",
              "      <button class=\"colab-df-convert\" onclick=\"convertToInteractive('df-9a72fc94-86bc-4b74-bacc-112cd08d2cbb')\"\n",
              "              title=\"Convert this dataframe to an interactive table.\"\n",
              "              style=\"display:none;\">\n",
              "        \n",
              "  <svg xmlns=\"http://www.w3.org/2000/svg\" height=\"24px\"viewBox=\"0 0 24 24\"\n",
              "       width=\"24px\">\n",
              "    <path d=\"M0 0h24v24H0V0z\" fill=\"none\"/>\n",
              "    <path d=\"M18.56 5.44l.94 2.06.94-2.06 2.06-.94-2.06-.94-.94-2.06-.94 2.06-2.06.94zm-11 1L8.5 8.5l.94-2.06 2.06-.94-2.06-.94L8.5 2.5l-.94 2.06-2.06.94zm10 10l.94 2.06.94-2.06 2.06-.94-2.06-.94-.94-2.06-.94 2.06-2.06.94z\"/><path d=\"M17.41 7.96l-1.37-1.37c-.4-.4-.92-.59-1.43-.59-.52 0-1.04.2-1.43.59L10.3 9.45l-7.72 7.72c-.78.78-.78 2.05 0 2.83L4 21.41c.39.39.9.59 1.41.59.51 0 1.02-.2 1.41-.59l7.78-7.78 2.81-2.81c.8-.78.8-2.07 0-2.86zM5.41 20L4 18.59l7.72-7.72 1.47 1.35L5.41 20z\"/>\n",
              "  </svg>\n",
              "      </button>\n",
              "      \n",
              "  <style>\n",
              "    .colab-df-container {\n",
              "      display:flex;\n",
              "      flex-wrap:wrap;\n",
              "      gap: 12px;\n",
              "    }\n",
              "\n",
              "    .colab-df-convert {\n",
              "      background-color: #E8F0FE;\n",
              "      border: none;\n",
              "      border-radius: 50%;\n",
              "      cursor: pointer;\n",
              "      display: none;\n",
              "      fill: #1967D2;\n",
              "      height: 32px;\n",
              "      padding: 0 0 0 0;\n",
              "      width: 32px;\n",
              "    }\n",
              "\n",
              "    .colab-df-convert:hover {\n",
              "      background-color: #E2EBFA;\n",
              "      box-shadow: 0px 1px 2px rgba(60, 64, 67, 0.3), 0px 1px 3px 1px rgba(60, 64, 67, 0.15);\n",
              "      fill: #174EA6;\n",
              "    }\n",
              "\n",
              "    [theme=dark] .colab-df-convert {\n",
              "      background-color: #3B4455;\n",
              "      fill: #D2E3FC;\n",
              "    }\n",
              "\n",
              "    [theme=dark] .colab-df-convert:hover {\n",
              "      background-color: #434B5C;\n",
              "      box-shadow: 0px 1px 3px 1px rgba(0, 0, 0, 0.15);\n",
              "      filter: drop-shadow(0px 1px 2px rgba(0, 0, 0, 0.3));\n",
              "      fill: #FFFFFF;\n",
              "    }\n",
              "  </style>\n",
              "\n",
              "      <script>\n",
              "        const buttonEl =\n",
              "          document.querySelector('#df-9a72fc94-86bc-4b74-bacc-112cd08d2cbb button.colab-df-convert');\n",
              "        buttonEl.style.display =\n",
              "          google.colab.kernel.accessAllowed ? 'block' : 'none';\n",
              "\n",
              "        async function convertToInteractive(key) {\n",
              "          const element = document.querySelector('#df-9a72fc94-86bc-4b74-bacc-112cd08d2cbb');\n",
              "          const dataTable =\n",
              "            await google.colab.kernel.invokeFunction('convertToInteractive',\n",
              "                                                     [key], {});\n",
              "          if (!dataTable) return;\n",
              "\n",
              "          const docLinkHtml = 'Like what you see? Visit the ' +\n",
              "            '<a target=\"_blank\" href=https://colab.research.google.com/notebooks/data_table.ipynb>data table notebook</a>'\n",
              "            + ' to learn more about interactive tables.';\n",
              "          element.innerHTML = '';\n",
              "          dataTable['output_type'] = 'display_data';\n",
              "          await google.colab.output.renderOutput(dataTable, element);\n",
              "          const docLink = document.createElement('div');\n",
              "          docLink.innerHTML = docLinkHtml;\n",
              "          element.appendChild(docLink);\n",
              "        }\n",
              "      </script>\n",
              "    </div>\n",
              "  </div>\n",
              "  "
            ]
          },
          "metadata": {},
          "execution_count": 23
        }
      ],
      "source": [
        "car.describe()"
      ]
    },
    {
      "cell_type": "markdown",
      "metadata": {
        "id": "ivXiPuTIRiEY"
      },
      "source": [
        "# Model Splitting"
      ]
    },
    {
      "cell_type": "code",
      "execution_count": 24,
      "metadata": {
        "id": "wIeMM_neRiEZ"
      },
      "outputs": [],
      "source": [
        "x=car.drop(['car acceptability'], axis=1).values\n",
        "y=car['car acceptability'].values"
      ]
    },
    {
      "cell_type": "code",
      "execution_count": 25,
      "metadata": {
        "colab": {
          "base_uri": "https://localhost:8080/"
        },
        "id": "YjA4tdF3RiEZ",
        "outputId": "9a85cd5d-fb8e-4eb4-bd97-32c7ced6c9fc"
      },
      "outputs": [
        {
          "output_type": "stream",
          "name": "stdout",
          "text": [
            "[[3 3 0 0 2 2]\n",
            " [3 3 0 0 2 0]\n",
            " [3 3 0 0 1 1]\n",
            " ...\n",
            " [1 1 3 2 0 1]\n",
            " [1 1 3 2 0 2]\n",
            " [1 1 3 2 0 0]]\n"
          ]
        }
      ],
      "source": [
        "print(x)"
      ]
    },
    {
      "cell_type": "code",
      "execution_count": 26,
      "metadata": {
        "colab": {
          "base_uri": "https://localhost:8080/"
        },
        "id": "Dc5-JZlORiEZ",
        "outputId": "09871b34-f3fb-4a01-e4f4-8d6dd22350d9"
      },
      "outputs": [
        {
          "output_type": "stream",
          "name": "stdout",
          "text": [
            "[2 2 2 ... 2 1 3]\n"
          ]
        }
      ],
      "source": [
        "print(y)"
      ]
    },
    {
      "cell_type": "code",
      "execution_count": 27,
      "metadata": {
        "id": "jsxv7dhoRiEZ"
      },
      "outputs": [],
      "source": [
        "from sklearn.model_selection import train_test_split\n",
        "\n",
        "x_train, x_test, y_train, y_test = train_test_split(x,y,test_size = 0.3,random_state = 0)"
      ]
    },
    {
      "cell_type": "markdown",
      "metadata": {
        "id": "cdNJRU_iRiEa"
      },
      "source": [
        "# Model Prediction"
      ]
    },
    {
      "cell_type": "code",
      "execution_count": 28,
      "metadata": {
        "id": "__wO-z6WRiEa"
      },
      "outputs": [],
      "source": [
        "from sklearn.linear_model import LinearRegression\n",
        "#creates an object of the class Linear Regression\n",
        "model=LinearRegression()"
      ]
    },
    {
      "cell_type": "code",
      "execution_count": 29,
      "metadata": {
        "colab": {
          "base_uri": "https://localhost:8080/",
          "height": 75
        },
        "id": "ioQoQFxXRiEa",
        "outputId": "fda18256-7e50-451b-ac0d-51be68a9749a"
      },
      "outputs": [
        {
          "output_type": "execute_result",
          "data": {
            "text/plain": [
              "LinearRegression()"
            ],
            "text/html": [
              "<style>#sk-container-id-1 {color: black;background-color: white;}#sk-container-id-1 pre{padding: 0;}#sk-container-id-1 div.sk-toggleable {background-color: white;}#sk-container-id-1 label.sk-toggleable__label {cursor: pointer;display: block;width: 100%;margin-bottom: 0;padding: 0.3em;box-sizing: border-box;text-align: center;}#sk-container-id-1 label.sk-toggleable__label-arrow:before {content: \"▸\";float: left;margin-right: 0.25em;color: #696969;}#sk-container-id-1 label.sk-toggleable__label-arrow:hover:before {color: black;}#sk-container-id-1 div.sk-estimator:hover label.sk-toggleable__label-arrow:before {color: black;}#sk-container-id-1 div.sk-toggleable__content {max-height: 0;max-width: 0;overflow: hidden;text-align: left;background-color: #f0f8ff;}#sk-container-id-1 div.sk-toggleable__content pre {margin: 0.2em;color: black;border-radius: 0.25em;background-color: #f0f8ff;}#sk-container-id-1 input.sk-toggleable__control:checked~div.sk-toggleable__content {max-height: 200px;max-width: 100%;overflow: auto;}#sk-container-id-1 input.sk-toggleable__control:checked~label.sk-toggleable__label-arrow:before {content: \"▾\";}#sk-container-id-1 div.sk-estimator input.sk-toggleable__control:checked~label.sk-toggleable__label {background-color: #d4ebff;}#sk-container-id-1 div.sk-label input.sk-toggleable__control:checked~label.sk-toggleable__label {background-color: #d4ebff;}#sk-container-id-1 input.sk-hidden--visually {border: 0;clip: rect(1px 1px 1px 1px);clip: rect(1px, 1px, 1px, 1px);height: 1px;margin: -1px;overflow: hidden;padding: 0;position: absolute;width: 1px;}#sk-container-id-1 div.sk-estimator {font-family: monospace;background-color: #f0f8ff;border: 1px dotted black;border-radius: 0.25em;box-sizing: border-box;margin-bottom: 0.5em;}#sk-container-id-1 div.sk-estimator:hover {background-color: #d4ebff;}#sk-container-id-1 div.sk-parallel-item::after {content: \"\";width: 100%;border-bottom: 1px solid gray;flex-grow: 1;}#sk-container-id-1 div.sk-label:hover label.sk-toggleable__label {background-color: #d4ebff;}#sk-container-id-1 div.sk-serial::before {content: \"\";position: absolute;border-left: 1px solid gray;box-sizing: border-box;top: 0;bottom: 0;left: 50%;z-index: 0;}#sk-container-id-1 div.sk-serial {display: flex;flex-direction: column;align-items: center;background-color: white;padding-right: 0.2em;padding-left: 0.2em;position: relative;}#sk-container-id-1 div.sk-item {position: relative;z-index: 1;}#sk-container-id-1 div.sk-parallel {display: flex;align-items: stretch;justify-content: center;background-color: white;position: relative;}#sk-container-id-1 div.sk-item::before, #sk-container-id-1 div.sk-parallel-item::before {content: \"\";position: absolute;border-left: 1px solid gray;box-sizing: border-box;top: 0;bottom: 0;left: 50%;z-index: -1;}#sk-container-id-1 div.sk-parallel-item {display: flex;flex-direction: column;z-index: 1;position: relative;background-color: white;}#sk-container-id-1 div.sk-parallel-item:first-child::after {align-self: flex-end;width: 50%;}#sk-container-id-1 div.sk-parallel-item:last-child::after {align-self: flex-start;width: 50%;}#sk-container-id-1 div.sk-parallel-item:only-child::after {width: 0;}#sk-container-id-1 div.sk-dashed-wrapped {border: 1px dashed gray;margin: 0 0.4em 0.5em 0.4em;box-sizing: border-box;padding-bottom: 0.4em;background-color: white;}#sk-container-id-1 div.sk-label label {font-family: monospace;font-weight: bold;display: inline-block;line-height: 1.2em;}#sk-container-id-1 div.sk-label-container {text-align: center;}#sk-container-id-1 div.sk-container {/* jupyter's `normalize.less` sets `[hidden] { display: none; }` but bootstrap.min.css set `[hidden] { display: none !important; }` so we also need the `!important` here to be able to override the default hidden behavior on the sphinx rendered scikit-learn.org. See: https://github.com/scikit-learn/scikit-learn/issues/21755 */display: inline-block !important;position: relative;}#sk-container-id-1 div.sk-text-repr-fallback {display: none;}</style><div id=\"sk-container-id-1\" class=\"sk-top-container\"><div class=\"sk-text-repr-fallback\"><pre>LinearRegression()</pre><b>In a Jupyter environment, please rerun this cell to show the HTML representation or trust the notebook. <br />On GitHub, the HTML representation is unable to render, please try loading this page with nbviewer.org.</b></div><div class=\"sk-container\" hidden><div class=\"sk-item\"><div class=\"sk-estimator sk-toggleable\"><input class=\"sk-toggleable__control sk-hidden--visually\" id=\"sk-estimator-id-1\" type=\"checkbox\" checked><label for=\"sk-estimator-id-1\" class=\"sk-toggleable__label sk-toggleable__label-arrow\">LinearRegression</label><div class=\"sk-toggleable__content\"><pre>LinearRegression()</pre></div></div></div></div></div>"
            ]
          },
          "metadata": {},
          "execution_count": 29
        }
      ],
      "source": [
        "model.fit(x_train,y_train)"
      ]
    },
    {
      "cell_type": "code",
      "execution_count": 30,
      "metadata": {
        "colab": {
          "base_uri": "https://localhost:8080/"
        },
        "id": "whUC5mpmRiEb",
        "outputId": "171cc204-c50e-4b60-e889-7b4c03605061"
      },
      "outputs": [
        {
          "output_type": "execute_result",
          "data": {
            "text/plain": [
              "1.7412406632303241"
            ]
          },
          "metadata": {},
          "execution_count": 30
        }
      ],
      "source": [
        "lineIntercept=model.intercept_\n",
        "lineIntercept"
      ]
    },
    {
      "cell_type": "code",
      "execution_count": 31,
      "metadata": {
        "colab": {
          "base_uri": "https://localhost:8080/"
        },
        "id": "5UnEWadxRiEb",
        "outputId": "e619b22f-b15d-4ca4-aeb6-39482ccb348f"
      },
      "outputs": [
        {
          "output_type": "execute_result",
          "data": {
            "text/plain": [
              "array([ 0.05009416,  0.02517474, -0.02652667, -0.30836489,  0.03579928,\n",
              "        0.00978291])"
            ]
          },
          "metadata": {},
          "execution_count": 31
        }
      ],
      "source": [
        "lineCoefficient=model.coef_\n",
        "lineCoefficient"
      ]
    },
    {
      "cell_type": "code",
      "execution_count": 32,
      "metadata": {
        "id": "eJ8SAkpzRiEc"
      },
      "outputs": [],
      "source": [
        "y_pred_train= model.predict(x_train)"
      ]
    },
    {
      "cell_type": "code",
      "execution_count": 33,
      "metadata": {
        "colab": {
          "base_uri": "https://localhost:8080/"
        },
        "id": "WnAPbjxcRiEc",
        "outputId": "0bf0c357-e3d6-4a87-f57a-b6760cbff244"
      },
      "outputs": [
        {
          "output_type": "execute_result",
          "data": {
            "text/plain": [
              "array([1.44214838, 1.92145854, 1.25463459, ..., 1.80954873, 1.19610944,\n",
              "       1.54786298])"
            ]
          },
          "metadata": {},
          "execution_count": 33
        }
      ],
      "source": [
        "y_pred_train"
      ]
    },
    {
      "cell_type": "code",
      "execution_count": 34,
      "metadata": {
        "colab": {
          "base_uri": "https://localhost:8080/"
        },
        "id": "LUofzn8-RiEc",
        "outputId": "d99a4cfb-a6ca-4942-c8eb-0145a280e86d"
      },
      "outputs": [
        {
          "output_type": "stream",
          "name": "stdout",
          "text": [
            "[1.28592855 1.58315826 1.88275454 1.93491179 1.77188721 1.23557906\n",
            " 1.83105313 1.51522373 1.56751145 1.56886338 1.9866132  1.26732222\n",
            " 1.56350979 1.28824032 1.57645274 1.58206165 1.65475683 1.33306353\n",
            " 1.60698107 1.32172783 1.25965686 1.92281047 1.51741729 1.61090009\n",
            " 1.76080649 1.93524312 1.34470868 1.90787482 1.18329134 1.83531011\n",
            " 1.54149508 1.4519313  1.51792759 1.22971517 1.47465716 1.14407671\n",
            " 1.5659042  1.77323914 1.94052071 1.96884885 1.24214782 1.89177847\n",
            " 1.59429344 1.84399608 1.8684052  1.85887761 1.60356605 1.55553498\n",
            " 1.81380571 1.08967144 1.54992607 1.61786093 1.36937312 1.56080593\n",
            " 1.87664196 1.58978147 1.12998269 1.99537552 1.87979536 1.30949604\n",
            " 1.19070139 1.14698176 1.22997015 1.81856636 1.26049849 1.65256327\n",
            " 1.8652518  1.97290463 1.88616956 1.88726651 1.19230864 1.25991218\n",
            " 1.13429379 1.21613145 1.26075381 1.55688691 1.87818811 1.21967694\n",
            " 1.7695688  1.6684654  1.24556284 1.40499717 1.51471343 1.34580562\n",
            " 1.16823084 1.19442619 1.28116126 1.51445811 1.44148198 1.80980404\n",
            " 1.86660373 1.86975713 1.12045509 1.87136438 1.92622583 1.45509133\n",
            " 1.12682265 1.5330641  1.40652433 1.59243087 1.68836255 1.15625437\n",
            " 1.26757754 1.51341562 1.48953869 1.07145754 1.32964818 1.4664815\n",
            " 1.27600853 1.910834   1.8233333  1.2456173  1.24645893 1.58341358\n",
            " 1.49751349 1.54394396 1.44265868 1.8114873  1.50067353 1.83691702\n",
            " 1.81115597 1.10029598 1.15786128 1.91985129 1.9382023  1.89273831\n",
            " 1.82738943 1.41342816 1.44813049 1.68752092 1.66344313 1.52133631\n",
            " 1.2843213  1.47414686 1.22174003 1.80221469 1.83311622 1.287985\n",
            " 1.37021475 1.22810792 1.97683029 1.94979332 1.89042654 1.29275228\n",
            " 1.91926498 1.96041786 1.25624184 1.51180837 1.60407635 1.58972702\n",
            " 1.24852202 1.12451088 1.26145833 1.85997422 2.0134712  1.25193073\n",
            " 1.19205366 1.85752534 1.93685037 1.22675599 1.23653891 1.93575342\n",
            " 1.42191616 1.22565905 1.20589236 2.00515843 1.18618942 1.21909063\n",
            " 1.83472347 1.62815415 1.92061691 1.74984688 1.77298416 1.42881998\n",
            " 1.56615952 1.90130607 1.57438965 1.56435141 1.78547093 1.95906593\n",
            " 1.30975102 1.18142878 1.57754968 1.20183657 1.50228078 1.88185845\n",
            " 1.52424102 1.66099425 1.92326665 1.19307426 1.62468467 1.26918479\n",
            " 1.95480895 1.59294117 1.67297072 1.2659703  1.4847714  1.24987394\n",
            " 1.84934967 1.66930702 1.43169907 1.67857964 1.55211962 1.32379092\n",
            " 1.80086276 1.26602475 1.97767192 1.47491248 1.82834927 1.75733701\n",
            " 1.61309365 1.38160491 1.30363181 1.33968641 1.26783252 1.77163189\n",
            " 1.78631256 1.47575411 1.19256396 1.93389119 1.49140092 1.48869706\n",
            " 1.58437342 1.94798521 1.88591458 1.74696779 1.56215786 1.49089062\n",
            " 1.6480513  1.83344755 1.24156117 1.84168431 1.25012926 1.51998438\n",
            " 1.50312241 1.42591493 1.24324443 1.55482382 1.21567527 1.89248299\n",
            " 1.94187263 1.61064477 1.84799774 1.79133483 1.52533797 1.59499796\n",
            " 1.16738922 1.96202511 1.84033238 1.88456231 1.90336286 1.66183588\n",
            " 1.5266899  1.49906628 1.56666982 1.14060723 1.56480759 1.25083379\n",
            " 2.00284666 1.52314408 1.24349975 1.99723775 1.20930771 1.54284701\n",
            " 1.88140261 1.21960093 1.20293318 1.57484549 1.29861618 1.53833504\n",
            " 1.97631999 1.79159015 1.50544082 1.7567507  1.61837123 1.8081968\n",
            " 1.58868453 1.20344348 1.21065964 1.83801397 1.91900966 1.14137285\n",
            " 1.52900831 1.88701119 1.66048395 1.41613201 1.81907666 1.51496841\n",
            " 1.5051855  1.54967075 1.79815856 1.28031963 1.88650089 1.26867449\n",
            " 1.88565926 1.11459086 1.21432334 1.96228009 1.86048452 1.53036024\n",
            " 1.784119   1.89518719 1.32855157 1.50118383 1.20770047 1.62126931\n",
            " 1.50383357 1.97998369 1.67908994 1.19146701 1.55321657 1.19315027\n",
            " 1.78702372 1.46461927 1.16687892 1.48187332 1.29629777 1.76480816\n",
            " 1.86730825 1.37999766 1.85095692 1.49165624 1.07010561 1.48502672\n",
            " 1.59950993 1.23397182 1.45006907 1.78682286 1.22701097 1.3304138\n",
            " 1.17666183 1.12547072 1.19842785 1.3911325  1.48026608 1.90999237\n",
            " 1.27479337 1.53937753 1.27685016 1.59474264 1.50994614 1.13133461\n",
            " 1.87613166 1.29114504 1.86499648 1.25618738 1.86158146 1.73828149\n",
            " 1.6534049  1.33672723 1.23287521 1.6114864  1.78598123 1.21136417\n",
            " 1.47659574 1.81039035 1.85913259 1.99833469 1.38611687 1.40338992\n",
            " 1.41495531 1.39887796 1.84695526 1.91399404 1.2424028  1.7931363\n",
            " 1.28136212 1.3784705  1.8507016  1.10480794 1.83582041 1.53537587\n",
            " 1.87052275 1.55025739 1.80988005 2.0316851  1.7621043  1.28567323\n",
            " 1.34368808 1.31927895 1.17556488 1.56139224 1.50679275 1.25057847\n",
            " 1.57413433 1.79790358 1.14968562 1.63826839 1.86234708 1.7480644\n",
            " 1.82178052 1.61991738 2.01262957 1.1811738  1.5272002  1.17717213\n",
            " 1.31000634 1.83711788 1.5632548  1.27002642 1.23101264 1.22064342\n",
            " 1.83633071 1.42295575 1.25167541 1.72449691 1.82198138 1.51818291\n",
            " 1.130238   1.24717009 1.64669937 1.5986683  1.55398219 1.53010492\n",
            " 1.98268755 1.57999856 1.5727824  1.56827707 1.79254999 1.43152384\n",
            " 2.03864594 1.22495452 1.3299035  1.19417087 1.33833448 1.37915603\n",
            " 1.25328266 1.54857414 1.74916135 1.10506326 1.42321107 1.22650067\n",
            " 1.73718488 1.75282505 1.28933693 1.822823   1.8834657  1.65307357\n",
            " 1.1671339  1.2246992  1.29410421 1.90792928 1.30704716 1.90897177\n",
            " 2.02325411 1.52404016 1.26706724 1.76345623 1.94553633 1.9855926\n",
            " 1.72263468 1.2702814  1.77433609 1.62313188 1.6716188  1.61360395\n",
            " 1.25379296 1.71488922 1.87207554 1.91244125 1.98745483 1.85256417\n",
            " 1.74967165 1.24020925 1.77349446 1.24265812 1.60382103 1.32880655\n",
            " 1.27208951 1.61760561 1.80111774 1.78496063 1.19526782 1.39938826\n",
            " 1.2664806  1.45875503 1.69949739 1.10725682 1.57594244 1.30227988\n",
            " 1.21638643 1.71336206 1.79706195 1.5691187  1.59184456 1.80587839\n",
            " 1.7700791  1.82042859 1.75810263 1.71471399 1.30549437 1.95776812\n",
            " 1.57007854 1.62738853 1.50653743 1.8716197  1.65172164 1.57890161\n",
            " 1.46867505 1.46120391 1.15735098 1.90838512 1.47865883 1.25753931\n",
            " 1.8867562  1.1968206  1.4386029  1.53512089 1.58572535 1.79841388\n",
            " 1.27344144 1.89704942 1.09102337 1.74355243 1.60162748 1.60929284\n",
            " 1.75843396 1.15490211 1.18387765]\n"
          ]
        }
      ],
      "source": [
        "y_pred=model.predict(x_test)\n",
        "print(y_pred)"
      ]
    },
    {
      "cell_type": "code",
      "execution_count": 35,
      "metadata": {
        "colab": {
          "base_uri": "https://localhost:8080/"
        },
        "id": "bhW6TvLPRiEd",
        "outputId": "2ca8c734-c394-4450-86ff-7ae7359028d6"
      },
      "outputs": [
        {
          "output_type": "execute_result",
          "data": {
            "text/plain": [
              "array([2.05821177])"
            ]
          },
          "metadata": {},
          "execution_count": 35
        }
      ],
      "source": [
        "# checking if the model predicts the right result\n",
        "model.predict([[3,3,0,0,2,2]])"
      ]
    },
    {
      "cell_type": "markdown",
      "metadata": {
        "id": "9kBAowjQRiEd"
      },
      "source": [
        "# Drawing the scater plot"
      ]
    },
    {
      "cell_type": "code",
      "execution_count": 36,
      "metadata": {
        "colab": {
          "base_uri": "https://localhost:8080/",
          "height": 850
        },
        "id": "s8ui6nonRiEe",
        "outputId": "bda9cfe7-5ac0-4f6d-a2b6-dc0b2ae3ac9a"
      },
      "outputs": [
        {
          "output_type": "display_data",
          "data": {
            "text/plain": [
              "<Figure size 1500x1000 with 1 Axes>"
            ],
            "image/png": "[encoded data removed]"
          },
          "metadata": {}
        }
      ],
      "source": [
        "import matplotlib.pyplot as plt\n",
        "plt.figure(figsize=(15,10))\n",
        "plt.scatter(y_train,y_pred_train)\n",
        "plt.xlabel(\"Actual train values\")\n",
        "plt.ylabel(\"Predicted train values\")\n",
        "plt.show()"
      ]
    },
    {
      "cell_type": "code",
      "execution_count": 37,
      "metadata": {
        "colab": {
          "base_uri": "https://localhost:8080/",
          "height": 850
        },
        "id": "Bq6gyCFsRiEe",
        "outputId": "bf873b43-294a-43b3-e31c-048f5673bbad"
      },
      "outputs": [
        {
          "output_type": "display_data",
          "data": {
            "text/plain": [
              "<Figure size 1500x1000 with 1 Axes>"
            ],
            "image/png": "[encoded data removed]"
          },
          "metadata": {}
        }
      ],
      "source": [
        "plt.figure(figsize=(15,10))\n",
        "plt.scatter(y_test,y_pred)\n",
        "plt.xlabel(\"Actual test values\")\n",
        "plt.ylabel(\"Predicted test values\")\n",
        "plt.show()"
      ]
    },
    {
      "cell_type": "code",
      "execution_count": 38,
      "metadata": {
        "colab": {
          "base_uri": "https://localhost:8080/"
        },
        "id": "XxGrUjXfRiEf",
        "outputId": "ce4f7dcd-51aa-48e5-d5b6-3004f72aeaf5"
      },
      "outputs": [
        {
          "output_type": "execute_result",
          "data": {
            "text/plain": [
              "0.10587326372584849"
            ]
          },
          "metadata": {},
          "execution_count": 38
        }
      ],
      "source": [
        "from sklearn.metrics import r2_score\n",
        "r2_score(y_test,y_pred)"
      ]
    },
    {
      "cell_type": "code",
      "execution_count": 39,
      "metadata": {
        "colab": {
          "base_uri": "https://localhost:8080/"
        },
        "id": "vInIC6dHRiEf",
        "outputId": "05c6e67f-7916-4a61-e48a-3f2cb83a1eb0"
      },
      "outputs": [
        {
          "output_type": "execute_result",
          "data": {
            "text/plain": [
              "0.09020608695932697"
            ]
          },
          "metadata": {},
          "execution_count": 39
        }
      ],
      "source": [
        "r2_score(y_train,y_pred_train)"
      ]
    },
    {
      "cell_type": "code",
      "execution_count": null,
      "metadata": {
        "id": "a11aSczTRiEf"
      },
      "outputs": [],
      "source": []
    }
  ],
  "metadata": {
    "kernelspec": {
      "display_name": "Python 3",
      "language": "python",
      "name": "python3"
    },
    "language_info": {
      "codemirror_mode": {
        "name": "ipython",
        "version": 3
      },
      "file_extension": ".py",
      "mimetype": "text/x-python",
      "name": "python",
      "nbconvert_exporter": "python",
      "pygments_lexer": "ipython3",
      "version": "3.8.5"
    },
    "colab": {
      "provenance": [],
      "include_colab_link": true
    }
  },
  "nbformat": 4,
  "nbformat_minor": 0
}